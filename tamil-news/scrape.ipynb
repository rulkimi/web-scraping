{
 "cells": [
  {
   "cell_type": "code",
   "execution_count": 19,
   "metadata": {},
   "outputs": [],
   "source": [
    "from selenium import webdriver\n",
    "from selenium.webdriver.common.keys import Keys\n",
    "from bs4 import BeautifulSoup\n",
    "from requests_html import HTMLSession\n",
    "from tqdm import tqdm\n",
    "import time\n",
    "import json"
   ]
  },
  {
   "cell_type": "code",
   "execution_count": 25,
   "metadata": {},
   "outputs": [
    {
     "name": "stdout",
     "output_type": "stream",
     "text": [
      "Scrolling to load more topics... Please wait\n",
      "Scrolled to display 100 topics. Proceeding with scraping..\n"
     ]
    },
    {
     "name": "stderr",
     "output_type": "stream",
     "text": [
      "                                                                    \r"
     ]
    },
    {
     "name": "stdout",
     "output_type": "stream",
     "text": [
      "Scraping completed.\n"
     ]
    }
   ],
   "source": [
    "def extract_text(element):\n",
    "    if element.name == \"p\":\n",
    "        return element.text.replace(\"\\n\", \" \").strip()\n",
    "    else:\n",
    "        return None\n",
    "\n",
    "driver = webdriver.Chrome()\n",
    "\n",
    "session = HTMLSession()\n",
    "\n",
    "url = \"https://tamil.oneindia.com/topic/malaysia?page-no=2\"\n",
    "driver.get(url)\n",
    "\n",
    "# total number of topics to scrape\n",
    "total_topics = 100\n",
    "\n",
    "# handle scroll\n",
    "print(\"Scrolling to load more topics... Please wait\")\n",
    "while len(driver.find_elements(\"class name\", \"cityblock-desc\")) < total_topics:\n",
    "    driver.execute_script(\"window.scrollTo(0, document.body.scrollHeight);\")\n",
    "    time.sleep(2)\n",
    "\n",
    "print(f\"Scrolled to display {total_topics} topics. Proceeding with scraping..\")\n",
    "\n",
    "page_source = driver.page_source\n",
    "\n",
    "soup = BeautifulSoup(page_source, \"html.parser\")\n",
    "entries = soup.find_all(\"div\", attrs={\"class\": \"cityblock-desc\"})\n",
    "\n",
    "data = []\n",
    "visited_urls = set()\n",
    "\n",
    "for entry in tqdm(entries, desc=\"Scraping progress: \", leave=False):\n",
    "    topic_url = 'https://tamil.oneindia.com' + entry.find(\"a\").get(\"href\")\n",
    "\n",
    "    # check if the URL has already been processed\n",
    "    if topic_url not in visited_urls:\n",
    "        topic_title = entry.find(\"div\", attrs={\"class\": \"cityblock-title\"}).text.strip()\n",
    "\n",
    "        try:\n",
    "            # topic content\n",
    "            page = session.get(topic_url)\n",
    "            page.raise_for_status()\n",
    "            topic_soup = BeautifulSoup(page.text, \"html.parser\")\n",
    "            body = topic_soup.find(\"div\", attrs={\"class\": \"oi-article-lt\"})\n",
    "            texts = [extract_text(tag) for tag in body.find_all([\"p\"])]\n",
    "            content_text = \"\\n\".join(filter(None, texts))\n",
    "\n",
    "            data.append({\"url\": topic_url, \"title\": topic_title, \"body\": content_text})\n",
    "            visited_urls.add(topic_url)\n",
    "\n",
    "        except requests.HTTPError:\n",
    "            tqdm.write(f\"Failed to scrape: {topic_title} - Error: Bad response status\")\n",
    "\n",
    "        except Exception as e:\n",
    "            tqdm.write(f\"Failed to scrape: {topic_title} - Error: {str(e)}\")\n",
    "\n",
    "tqdm.write(\"Scraping completed.\")\n",
    "\n",
    "driver.quit()"
   ]
  },
  {
   "cell_type": "code",
   "execution_count": 20,
   "metadata": {},
   "outputs": [],
   "source": [
    "with open(\"tamil-oneindia.json\", \"w\") as json_file:\n",
    "    json.dump(data, json_file, indent=2)"
   ]
  }
 ],
 "metadata": {
  "kernelspec": {
   "display_name": "Python 3",
   "language": "python",
   "name": "python3"
  },
  "language_info": {
   "codemirror_mode": {
    "name": "ipython",
    "version": 3
   },
   "file_extension": ".py",
   "mimetype": "text/x-python",
   "name": "python",
   "nbconvert_exporter": "python",
   "pygments_lexer": "ipython3",
   "version": "3.12.2"
  }
 },
 "nbformat": 4,
 "nbformat_minor": 2
}
