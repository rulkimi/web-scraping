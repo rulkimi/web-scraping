{
 "cells": [
  {
   "cell_type": "code",
   "execution_count": 1,
   "metadata": {},
   "outputs": [],
   "source": [
    "from bs4 import BeautifulSoup\n",
    "from requests_html import HTMLSession\n",
    "import json"
   ]
  },
  {
   "cell_type": "code",
   "execution_count": 3,
   "metadata": {},
   "outputs": [],
   "source": [
    "session = HTMLSession()\n",
    "url = \"https://www.bbc.com/news\"\n",
    "response = session.get(url)\n",
    "\n",
    "soup = BeautifulSoup(response.content, \"html.parser\")"
   ]
  },
  {
   "cell_type": "code",
   "execution_count": 43,
   "metadata": {},
   "outputs": [
    {
     "name": "stdout",
     "output_type": "stream",
     "text": [
      "['https://www.bbc.com/news/articles/cly2z1459lzo', 'https://www.bbc.com/news/articles/c0rz4e9185qo', 'https://www.bbc.com/news/articles/cly2z1459lzo', 'https://www.bbc.com/news/videos/c4g7473l2lgo', 'https://www.bbc.com/news/articles/ce30k9g6x2eo', 'https://www.bbc.com/news/articles/cwygpjyv249o', 'https://www.bbc.com/news/articles/c0rz4e9185qo', 'https://www.bbc.com/news/articles/cdrxez45dr1o', 'https://www.bbc.com/news/articles/cx2xjd41g33o', 'https://www.bbc.com/news/articles/ckg8yky4153o', 'https://www.bbc.com/news/articles/c2ljgp4v48no', 'https://www.bbc.com/news/articles/cdrxez45dr1o', 'https://www.bbc.com/news/articles/c2ljgp4v48no', 'https://www.bbc.com/news/articles/cgm1lg3gj7vo', 'https://www.bbc.com/news/articles/c5y9vlq4dlzo', 'https://www.bbc.com/news/articles/cgm1lg3gj7vo', 'https://www.bbc.com/news/articles/cm2jr619336o', 'https://www.bbc.com/news/articles/cm2jr7nr60ro', 'https://www.bbc.com/news/articles/c5y9vlq4dlzo', 'https://www.bbc.com/sport/rugby-union/articles/cvgw87r0zewo', 'https://www.bbc.com/sport/football/articles/czje147jjllo', 'https://www.bbc.com/sport/tennis/articles/cq8ygdpv7dvo', 'https://www.bbc.com/sport/football/articles/ckg81nppwyko', 'https://www.bbc.com/sport/rugby-union/articles/cvgw87r0zewo', 'https://www.bbc.com/sport/football/articles/ckg81nppwyko']\n"
     ]
    }
   ],
   "source": [
    "cards = soup.find_all(attrs={\"data-testid\": [\"dundee-card\"]})\n",
    "\n",
    "news_url = []\n",
    "for card in cards:\n",
    "  main_url = \"https://www.bbc.com\"\n",
    "  news_url.append(main_url + card.find(\"a\").get(\"href\"))\n",
    "\n",
    "print(news_url)"
   ]
  },
  {
   "cell_type": "code",
   "execution_count": 48,
   "metadata": {},
   "outputs": [],
   "source": [
    "articles = []\n",
    "for url in news_url:\n",
    "  response = session.get(url)\n",
    "  article_content = BeautifulSoup(response.content, \"html.parser\")\n",
    "  title = article_content.find(\"h1\").text.strip()\n",
    "  # publisher = article_content.find(\"div\", attrs={\"data-testid\": [\"byline-new-contributors\"]}).find_all(\"span\")\n",
    "  time = article_content.find(\"time\").get(\"datetime\")\n",
    "  contents = article_content.find_all(\"p\")\n",
    "  body = []\n",
    "  for content in contents:\n",
    "    body.append(content.text.strip())\n",
    "  articles.append({\n",
    "    \"title\": title,\n",
    "    \"publisher\": \"BBC News\",\n",
    "    \"published_date\": time,\n",
    "    \"article_content\": \" \".join(body)\n",
    "  })"
   ]
  },
  {
   "cell_type": "code",
   "execution_count": 49,
   "metadata": {},
   "outputs": [],
   "source": [
    "with open('bbcnews-articles.json', 'w', encoding='utf-8') as json_file:\n",
    "  json.dump(articles, json_file, ensure_ascii=False, indent=4)"
   ]
  }
 ],
 "metadata": {
  "kernelspec": {
   "display_name": "Python 3",
   "language": "python",
   "name": "python3"
  },
  "language_info": {
   "codemirror_mode": {
    "name": "ipython",
    "version": 3
   },
   "file_extension": ".py",
   "mimetype": "text/x-python",
   "name": "python",
   "nbconvert_exporter": "python",
   "pygments_lexer": "ipython3",
   "version": "3.13.0"
  }
 },
 "nbformat": 4,
 "nbformat_minor": 2
}
