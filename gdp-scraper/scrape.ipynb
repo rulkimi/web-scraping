{
 "cells": [
  {
   "cell_type": "code",
   "execution_count": 1,
   "metadata": {},
   "outputs": [],
   "source": [
    "import requests\n",
    "from bs4 import BeautifulSoup\n",
    "import pandas as pd\n",
    "import re"
   ]
  },
  {
   "cell_type": "code",
   "execution_count": 2,
   "metadata": {},
   "outputs": [],
   "source": [
    "url = \"https://stats.oecd.org/index.aspx?queryid=33940\"\n",
    "response = requests.get(url)\n",
    "soup = BeautifulSoup(response.content, \"html.parser\")"
   ]
  },
  {
   "cell_type": "code",
   "execution_count": 3,
   "metadata": {},
   "outputs": [],
   "source": [
    "table = soup.find(\"table\", { \"class\" : \"DataTable\"})\n",
    "tbody = table.find(\"tbody\")"
   ]
  },
  {
   "cell_type": "code",
   "execution_count": 4,
   "metadata": {},
   "outputs": [
    {
     "name": "stdout",
     "output_type": "stream",
     "text": [
      "Data has been successfully extracted and saved to 'gdp_data.xlsx'.\n"
     ]
    }
   ],
   "source": [
    "data = []\n",
    "\n",
    "start_index = 35 # Q1-2014\n",
    "end_index = 75 # Q4-2023\n",
    "\n",
    "for row in tbody.find_all(\"tr\", class_=lambda x: x and x.startswith('row')):\n",
    "    country_name = row.find(\"td\", class_=re.compile('^RowDimLabel')).text.strip()\n",
    "    # data from start_index(Q1-2014) to end_index(Q4-2023)\n",
    "    row_data = [cell.text.strip() for cell in row.find_all(\"td\", class_=lambda x: x and x.startswith('Data'))]\n",
    "    data.append([country_name] + row_data[start_index:end_index])\n",
    "\n",
    "columns = ['Country'] + [f'Q{i}-{year}' for year in range(2014, 2024) for i in range(1, 5)]\n",
    "\n",
    "df = pd.DataFrame(data, columns=columns)\n",
    "\n",
    "df.to_excel('gdp_data.xlsx', index=False)\n",
    "\n",
    "print(\"Data has been successfully extracted and saved to 'gdp_data.xlsx'.\")"
   ]
  }
 ],
 "metadata": {
  "kernelspec": {
   "display_name": "Python 3",
   "language": "python",
   "name": "python3"
  },
  "language_info": {
   "codemirror_mode": {
    "name": "ipython",
    "version": 3
   },
   "file_extension": ".py",
   "mimetype": "text/x-python",
   "name": "python",
   "nbconvert_exporter": "python",
   "pygments_lexer": "ipython3",
   "version": "3.12.2"
  }
 },
 "nbformat": 4,
 "nbformat_minor": 2
}
