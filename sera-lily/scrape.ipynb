{
 "cells": [
  {
   "cell_type": "code",
   "execution_count": 92,
   "metadata": {},
   "outputs": [],
   "source": [
    "from bs4 import BeautifulSoup\n",
    "import requests\n",
    "import re\n",
    "import json"
   ]
  },
  {
   "cell_type": "code",
   "execution_count": 8,
   "metadata": {},
   "outputs": [],
   "source": [
    "url = \"https://take.app/seralily\"\n",
    "response = requests.get(url)\n",
    "soup = BeautifulSoup(response.content, \"html.parser\")"
   ]
  },
  {
   "cell_type": "code",
   "execution_count": 26,
   "metadata": {},
   "outputs": [
    {
     "name": "stdout",
     "output_type": "stream",
     "text": [
      "4\n"
     ]
    }
   ],
   "source": [
    "cards = soup.find_all(\"div\", { \"data-type\" : \"home-card\"})\n",
    "cards = cards[1:]"
   ]
  },
  {
   "cell_type": "code",
   "execution_count": 117,
   "metadata": {},
   "outputs": [],
   "source": [
    "products = []\n",
    "\n",
    "#product cards\n",
    "for card in cards:\n",
    "    product = {}\n",
    "    \n",
    "    card_header_elements = card.find_all(\"a\", class_=re.compile(r'HomeProductsCard_clickable__\\w+'))\n",
    "    \n",
    "    for element in card_header_elements:\n",
    "        product_name_element, product_detail_element = element.find_all(\"p\")\n",
    "        \n",
    "        product_name = product_name_element.text.strip() \n",
    "        product_description = product_detail_element.text.strip()  \n",
    "\n",
    "        product[\"type\"] = product_name\n",
    "        product[\"description\"] = product_description\n",
    "        \n",
    "    # items in product\n",
    "    items_list = []\n",
    "    \n",
    "    product_items_elements = card.find(\"div\", {\"class\": \"m_6d731127 mantine-Stack-root\"}, recursive=False)\n",
    "    product_items = product_items_elements.find_all(\"div\", {\"class\": \"mantine-Flex-root\"})\n",
    "    \n",
    "    for items in product_items:\n",
    "        # each 'items' contains one item info and its corresponding image\n",
    "        info = items.find(\"div\", {\"class\": \"mantine-Stack-root\"})\n",
    "        if info is not None:\n",
    "            \n",
    "            item_name = info.find_all(\"p\", {\"class\": \"mantine-Text-root\"})[0].text.strip()\n",
    "            item_description = info.find_all(\"p\", {\"class\": \"mantine-Text-root\"})[1].text.strip()\n",
    "            item_price = info.find_all(\"p\", {\"class\": \"mantine-Text-root\"})[2].text.strip()\n",
    "            item_image = items.find(\"img\")['src']\n",
    "            \n",
    "            items_list.append({\n",
    "                \"name\": item_name,\n",
    "                \"price\": item_price,\n",
    "                \"description\": item_description,\n",
    "                \"image\": item_image\n",
    "            })\n",
    "    \n",
    "    product[\"items\"] = items_list\n",
    "    \n",
    "    products.append(product)\n"
   ]
  },
  {
   "cell_type": "code",
   "execution_count": 118,
   "metadata": {},
   "outputs": [
    {
     "name": "stdout",
     "output_type": "stream",
     "text": [
      "Data saved to products_data.json\n"
     ]
    }
   ],
   "source": [
    "output_filename = \"products_data.json\"\n",
    "\n",
    "with open(output_filename, \"w\") as json_file:\n",
    "    json.dump(products, json_file, indent=2)\n",
    "\n",
    "print(f\"Data saved to {output_filename}\")"
   ]
  }
 ],
 "metadata": {
  "kernelspec": {
   "display_name": "Python 3",
   "language": "python",
   "name": "python3"
  },
  "language_info": {
   "codemirror_mode": {
    "name": "ipython",
    "version": 3
   },
   "file_extension": ".py",
   "mimetype": "text/x-python",
   "name": "python",
   "nbconvert_exporter": "python",
   "pygments_lexer": "ipython3",
   "version": "3.13.0"
  }
 },
 "nbformat": 4,
 "nbformat_minor": 2
}
